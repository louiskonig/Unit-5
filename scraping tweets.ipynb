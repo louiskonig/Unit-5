{
 "cells": [
  {
   "cell_type": "code",
   "execution_count": 1,
   "metadata": {},
   "outputs": [],
   "source": [
    "import twitter, re, datetime, pandas as pd\n",
    "import numpy as np\n",
    "import pandas as pd\n",
    "from datetime import timedelta\n",
    "from email.utils import parsedate_tz\n",
    "import matplotlib.pyplot as plt\n",
    "import seaborn as sns"
   ]
  },
  {
   "cell_type": "code",
   "execution_count": 23,
   "metadata": {},
   "outputs": [],
   "source": [
    "def to_datetime(datestring):\n",
    "    time_tuple = parsedate_tz(datestring.strip())\n",
    "    dt = datetime.datetime(*time_tuple[:6])\n",
    "    return dt - timedelta(seconds=time_tuple[-1])"
   ]
  },
  {
   "cell_type": "code",
   "execution_count": 3,
   "metadata": {},
   "outputs": [],
   "source": [
    "class twitterminer():\n",
    "    #rl   =   request_limit    \n",
    "    api             =   False\n",
    "    data            =   []\n",
    "    \n",
    "    twitter_keys = {\n",
    "    'consumer_key': 'JsQ2q7f2qGSmkhdpeYsgrzDzv'      , #add your consumer key\n",
    "    'consumer_secret': 'UEQUIwH3D2WJtGfDdwLZNcQ2tFYEFJFZYDsX8W3Lj8N7BPBBia'    , #add your consumer secret key\n",
    "    'access_token_key': '35349106-gCEDJfBQJQ12FFtqjxfZ60sH9UG7OqE782x8Qb3sZ'   , #add your access token key\n",
    "    'access_token_secret':  '1hzOfbjeyoyKoffR6sbwDj3UD4PoDJQapA8ADlvg2y7it'  #add your access token secret key\n",
    "    }\n",
    "    \n",
    "    def __init__(self,  request_limit):\n",
    "        \n",
    "        self.request_limit = request_limit\n",
    "        \n",
    "        # This sets the twitter API object for use internall within the class\n",
    "        self.set_api()\n",
    "        \n",
    "    def set_api(self):\n",
    "        self.api = twitter.Api(\n",
    "        consumer_key         =   self.twitter_keys['consumer_key'],\n",
    "        consumer_secret      =   self.twitter_keys['consumer_secret'],\n",
    "        access_token_key     =   self.twitter_keys['access_token_key'],\n",
    "        access_token_secret  =   self.twitter_keys['access_token_secret']\n",
    "    )\n",
    "        \n",
    "\n",
    "    def mine_user_tweets(self, user=\" set default user to get data from\", mine_retweets=False):\n",
    "        statuses   =   self.api.GetUserTimeline(screen_name=user, count=self.request_limit,include_rts=False)\n",
    "        data       =   []\n",
    "\n",
    "        for item in statuses:\n",
    "            \n",
    "\n",
    "            mined = {\n",
    "                'tweet_id': item.id,\n",
    "                'handle': item.user.name,\n",
    "                'screen_name': item.user.screen_name,\n",
    "                'retweet_count': item.retweet_count,\n",
    "                'followers_count':  item.user.followers_count,\n",
    "                'text': item.text,\n",
    "                'user_mentions': ', '.join([h.name for h in item.user_mentions]),\n",
    "                'hashtags': ', '.join([h.text for h in item.hashtags]),\n",
    "                'favorited': item.favorited,\n",
    "                'mined_at': datetime.datetime.now(),\n",
    "                'created_at': item.created_at,\n",
    "            }\n",
    "\n",
    "            data.append(mined)\n",
    "\n",
    "                      \n",
    "        return data"
   ]
  },
  {
   "cell_type": "code",
   "execution_count": 6,
   "metadata": {},
   "outputs": [],
   "source": [
    "api = twitter.Api( consumer_key = 'JsQ2q7f2qGSmkhdpeYsgrzDzv', #add your consumer key\n",
    "                  consumer_secret = 'UEQUIwH3D2WJtGfDdwLZNcQ2tFYEFJFZYDsX8W3Lj8N7BPBBia', #add your consumer secret key\n",
    "                  access_token_key = '35349106-gCEDJfBQJQ12FFtqjxfZ60sH9UG7OqE782x8Qb3sZ'  , #add your access token key\n",
    "                  access_token_secret = '1hzOfbjeyoyKoffR6sbwDj3UD4PoDJQapA8ADlvg2y7it'  #add your access token secret key\n",
    "                 )"
   ]
  },
  {
   "cell_type": "code",
   "execution_count": 9,
   "metadata": {},
   "outputs": [
    {
     "name": "stdout",
     "output_type": "stream",
     "text": [
      "['AsDict', 'AsJsonString', 'NewFromJsonDict', '__class__', '__delattr__', '__dict__', '__dir__', '__doc__', '__eq__', '__format__', '__ge__', '__getattribute__', '__gt__', '__hash__', '__init__', '__init_subclass__', '__le__', '__lt__', '__module__', '__ne__', '__new__', '__reduce__', '__reduce_ex__', '__repr__', '__setattr__', '__sizeof__', '__str__', '__subclasshook__', '__weakref__', '_json', 'contributors_enabled', 'created_at', 'default_profile', 'default_profile_image', 'description', 'email', 'favourites_count', 'followers_count', 'following', 'friends_count', 'geo_enabled', 'id', 'id_str', 'lang', 'listed_count', 'location', 'name', 'notifications', 'param_defaults', 'profile_background_color', 'profile_background_image_url', 'profile_background_image_url_https', 'profile_background_tile', 'profile_banner_url', 'profile_image_url', 'profile_image_url_https', 'profile_link_color', 'profile_sidebar_border_color', 'profile_sidebar_fill_color', 'profile_text_color', 'profile_use_background_image', 'protected', 'screen_name', 'status', 'statuses_count', 'time_zone', 'url', 'utc_offset', 'verified', 'withheld_in_countries', 'withheld_scope']\n"
     ]
    }
   ],
   "source": [
    "users = api.GetFriends()\n",
    "print(dir(users[0]))"
   ]
  },
  {
   "cell_type": "code",
   "execution_count": 10,
   "metadata": {},
   "outputs": [
    {
     "data": {
      "text/html": [
       "<div>\n",
       "<style scoped>\n",
       "    .dataframe tbody tr th:only-of-type {\n",
       "        vertical-align: middle;\n",
       "    }\n",
       "\n",
       "    .dataframe tbody tr th {\n",
       "        vertical-align: top;\n",
       "    }\n",
       "\n",
       "    .dataframe thead th {\n",
       "        text-align: right;\n",
       "    }\n",
       "</style>\n",
       "<table border=\"1\" class=\"dataframe\">\n",
       "  <thead>\n",
       "    <tr style=\"text-align: right;\">\n",
       "      <th></th>\n",
       "      <th>screen_name</th>\n",
       "      <th>followers_count</th>\n",
       "    </tr>\n",
       "  </thead>\n",
       "  <tbody>\n",
       "    <tr>\n",
       "      <th>0</th>\n",
       "      <td>conservmillen</td>\n",
       "      <td>118664</td>\n",
       "    </tr>\n",
       "    <tr>\n",
       "      <th>1</th>\n",
       "      <td>Imamofpeace</td>\n",
       "      <td>230921</td>\n",
       "    </tr>\n",
       "    <tr>\n",
       "      <th>2</th>\n",
       "      <td>jockowillink</td>\n",
       "      <td>216821</td>\n",
       "    </tr>\n",
       "    <tr>\n",
       "      <th>3</th>\n",
       "      <td>brian_armstrong</td>\n",
       "      <td>241906</td>\n",
       "    </tr>\n",
       "    <tr>\n",
       "      <th>4</th>\n",
       "      <td>Ocasio2018</td>\n",
       "      <td>780816</td>\n",
       "    </tr>\n",
       "  </tbody>\n",
       "</table>\n",
       "</div>"
      ],
      "text/plain": [
       "       screen_name  followers_count\n",
       "0    conservmillen           118664\n",
       "1      Imamofpeace           230921\n",
       "2     jockowillink           216821\n",
       "3  brian_armstrong           241906\n",
       "4       Ocasio2018           780816"
      ]
     },
     "execution_count": 10,
     "metadata": {},
     "output_type": "execute_result"
    }
   ],
   "source": [
    "users = [(u.screen_name, u.followers_count) for u in users]\n",
    "users_df = pd.DataFrame(users)\n",
    "users_df.columns=['screen_name','followers_count']\n",
    "users_df.head()"
   ]
  },
  {
   "cell_type": "code",
   "execution_count": 11,
   "metadata": {},
   "outputs": [],
   "source": [
    "#get last 100 tweets for each user I follow\n",
    "miner = twitterminer(request_limit = 100)\n",
    "users = api.GetFriends()\n",
    "users = [(u.screen_name, u.followers_count) for u in users]\n",
    "tweets_all = []\n",
    "\n",
    "for u in users:\n",
    "    tweets_user = miner.mine_user_tweets(u[0])\n",
    "    tweets_all.extend(tweets_user)"
   ]
  },
  {
   "cell_type": "code",
   "execution_count": 12,
   "metadata": {},
   "outputs": [],
   "source": [
    "#Create dataframes\n",
    "tweets_df = pd.DataFrame(tweets_all)\n",
    "tweets_df['retweet_ratio'] = (tweets_df['retweet_count']/tweets_df['followers_count'])*10000"
   ]
  },
  {
   "cell_type": "code",
   "execution_count": 25,
   "metadata": {},
   "outputs": [
    {
     "data": {
      "text/html": [
       "<div>\n",
       "<style scoped>\n",
       "    .dataframe tbody tr th:only-of-type {\n",
       "        vertical-align: middle;\n",
       "    }\n",
       "\n",
       "    .dataframe tbody tr th {\n",
       "        vertical-align: top;\n",
       "    }\n",
       "\n",
       "    .dataframe thead th {\n",
       "        text-align: right;\n",
       "    }\n",
       "</style>\n",
       "<table border=\"1\" class=\"dataframe\">\n",
       "  <thead>\n",
       "    <tr style=\"text-align: right;\">\n",
       "      <th></th>\n",
       "      <th>created_at</th>\n",
       "      <th>favorited</th>\n",
       "      <th>followers_count</th>\n",
       "      <th>handle</th>\n",
       "      <th>hashtags</th>\n",
       "      <th>mined_at</th>\n",
       "      <th>retweet_count</th>\n",
       "      <th>screen_name</th>\n",
       "      <th>text</th>\n",
       "      <th>tweet_id</th>\n",
       "      <th>user_mentions</th>\n",
       "      <th>retweet_ratio</th>\n",
       "      <th>created_date</th>\n",
       "    </tr>\n",
       "  </thead>\n",
       "  <tbody>\n",
       "    <tr>\n",
       "      <th>0</th>\n",
       "      <td>Sat Aug 04 22:23:27 +0000 2018</td>\n",
       "      <td>False</td>\n",
       "      <td>118664</td>\n",
       "      <td>Allie Beth Stuckey</td>\n",
       "      <td></td>\n",
       "      <td>2018-08-04 22:38:07.236216</td>\n",
       "      <td>232</td>\n",
       "      <td>conservmillen</td>\n",
       "      <td>I’m beginning to think some on the left just d...</td>\n",
       "      <td>1025869853457043456</td>\n",
       "      <td></td>\n",
       "      <td>19.551001</td>\n",
       "      <td>2018-08-04</td>\n",
       "    </tr>\n",
       "    <tr>\n",
       "      <th>1</th>\n",
       "      <td>Sat Aug 04 16:40:14 +0000 2018</td>\n",
       "      <td>False</td>\n",
       "      <td>118664</td>\n",
       "      <td>Allie Beth Stuckey</td>\n",
       "      <td></td>\n",
       "      <td>2018-08-04 22:38:07.236216</td>\n",
       "      <td>0</td>\n",
       "      <td>conservmillen</td>\n",
       "      <td>@DarthExegete Oh, yes. Yes, I have.</td>\n",
       "      <td>1025783479777325056</td>\n",
       "      <td>Eh! Stephen!</td>\n",
       "      <td>0.000000</td>\n",
       "      <td>2018-08-04</td>\n",
       "    </tr>\n",
       "    <tr>\n",
       "      <th>2</th>\n",
       "      <td>Sat Aug 04 15:53:36 +0000 2018</td>\n",
       "      <td>False</td>\n",
       "      <td>118664</td>\n",
       "      <td>Allie Beth Stuckey</td>\n",
       "      <td></td>\n",
       "      <td>2018-08-04 22:38:07.236216</td>\n",
       "      <td>11</td>\n",
       "      <td>conservmillen</td>\n",
       "      <td>Wise strategy my friend 😈😈 https://t.co/IZmIpV...</td>\n",
       "      <td>1025771742801940480</td>\n",
       "      <td></td>\n",
       "      <td>0.926987</td>\n",
       "      <td>2018-08-04</td>\n",
       "    </tr>\n",
       "    <tr>\n",
       "      <th>3</th>\n",
       "      <td>Fri Aug 03 17:23:59 +0000 2018</td>\n",
       "      <td>False</td>\n",
       "      <td>118664</td>\n",
       "      <td>Allie Beth Stuckey</td>\n",
       "      <td></td>\n",
       "      <td>2018-08-04 22:38:07.236216</td>\n",
       "      <td>0</td>\n",
       "      <td>conservmillen</td>\n",
       "      <td>@fitsumbelay @sgdc_man @cabot_phillips ....why...</td>\n",
       "      <td>1025432103205449729</td>\n",
       "      <td>🇪🇹🇺🇸🤙🏾ፍፁም በላይ, SGDC Man, Cabot Phillips</td>\n",
       "      <td>0.000000</td>\n",
       "      <td>2018-08-03</td>\n",
       "    </tr>\n",
       "    <tr>\n",
       "      <th>4</th>\n",
       "      <td>Fri Aug 03 17:23:02 +0000 2018</td>\n",
       "      <td>False</td>\n",
       "      <td>118664</td>\n",
       "      <td>Allie Beth Stuckey</td>\n",
       "      <td></td>\n",
       "      <td>2018-08-04 22:38:07.236216</td>\n",
       "      <td>0</td>\n",
       "      <td>conservmillen</td>\n",
       "      <td>@FrankelJeremy @cabot_phillips Yes!</td>\n",
       "      <td>1025431862519508992</td>\n",
       "      <td>Jeremy Frankel, Cabot Phillips</td>\n",
       "      <td>0.000000</td>\n",
       "      <td>2018-08-03</td>\n",
       "    </tr>\n",
       "  </tbody>\n",
       "</table>\n",
       "</div>"
      ],
      "text/plain": [
       "                       created_at  favorited  followers_count  \\\n",
       "0  Sat Aug 04 22:23:27 +0000 2018      False           118664   \n",
       "1  Sat Aug 04 16:40:14 +0000 2018      False           118664   \n",
       "2  Sat Aug 04 15:53:36 +0000 2018      False           118664   \n",
       "3  Fri Aug 03 17:23:59 +0000 2018      False           118664   \n",
       "4  Fri Aug 03 17:23:02 +0000 2018      False           118664   \n",
       "\n",
       "               handle hashtags                   mined_at  retweet_count  \\\n",
       "0  Allie Beth Stuckey          2018-08-04 22:38:07.236216            232   \n",
       "1  Allie Beth Stuckey          2018-08-04 22:38:07.236216              0   \n",
       "2  Allie Beth Stuckey          2018-08-04 22:38:07.236216             11   \n",
       "3  Allie Beth Stuckey          2018-08-04 22:38:07.236216              0   \n",
       "4  Allie Beth Stuckey          2018-08-04 22:38:07.236216              0   \n",
       "\n",
       "     screen_name                                               text  \\\n",
       "0  conservmillen  I’m beginning to think some on the left just d...   \n",
       "1  conservmillen                @DarthExegete Oh, yes. Yes, I have.   \n",
       "2  conservmillen  Wise strategy my friend 😈😈 https://t.co/IZmIpV...   \n",
       "3  conservmillen  @fitsumbelay @sgdc_man @cabot_phillips ....why...   \n",
       "4  conservmillen                @FrankelJeremy @cabot_phillips Yes!   \n",
       "\n",
       "              tweet_id                            user_mentions  \\\n",
       "0  1025869853457043456                                            \n",
       "1  1025783479777325056                             Eh! Stephen!   \n",
       "2  1025771742801940480                                            \n",
       "3  1025432103205449729  🇪🇹🇺🇸🤙🏾ፍፁም በላይ, SGDC Man, Cabot Phillips   \n",
       "4  1025431862519508992           Jeremy Frankel, Cabot Phillips   \n",
       "\n",
       "   retweet_ratio created_date  \n",
       "0      19.551001   2018-08-04  \n",
       "1       0.000000   2018-08-04  \n",
       "2       0.926987   2018-08-04  \n",
       "3       0.000000   2018-08-03  \n",
       "4       0.000000   2018-08-03  "
      ]
     },
     "execution_count": 25,
     "metadata": {},
     "output_type": "execute_result"
    }
   ],
   "source": [
    "#add create date in date format\n",
    "created_date = [to_datetime(t).date() for t in tweets_df['created_at']]\n",
    "tweets_df['created_date'] = created_date\n",
    "tweets_df.head()"
   ]
  },
  {
   "cell_type": "code",
   "execution_count": 37,
   "metadata": {},
   "outputs": [],
   "source": [
    "#filter on date and sort by retweet ratio\n",
    "mask = (tweets_df['created_date'] > datetime.datetime.strptime('2018-06-21', \"%Y-%m-%d\").date()) & \\\n",
    "       (tweets_df['created_date'] <= datetime.datetime.strptime('2018-08-04', \"%Y-%m-%d\").date()) & \\\n",
    "       (tweets_df['followers_count'] > 1000) \n",
    "\n",
    "df = tweets_df.loc[mask].sort_values('retweet_ratio',ascending=False)"
   ]
  },
  {
   "cell_type": "code",
   "execution_count": 38,
   "metadata": {},
   "outputs": [
    {
     "data": {
      "text/html": [
       "<div>\n",
       "<style scoped>\n",
       "    .dataframe tbody tr th:only-of-type {\n",
       "        vertical-align: middle;\n",
       "    }\n",
       "\n",
       "    .dataframe tbody tr th {\n",
       "        vertical-align: top;\n",
       "    }\n",
       "\n",
       "    .dataframe thead th {\n",
       "        text-align: right;\n",
       "    }\n",
       "</style>\n",
       "<table border=\"1\" class=\"dataframe\">\n",
       "  <thead>\n",
       "    <tr style=\"text-align: right;\">\n",
       "      <th></th>\n",
       "      <th>handle</th>\n",
       "      <th>retweet_ratio</th>\n",
       "    </tr>\n",
       "  </thead>\n",
       "  <tbody>\n",
       "    <tr>\n",
       "      <th>35</th>\n",
       "      <td>Munroe Bergdorf 🌹🌹</td>\n",
       "      <td>375.915310</td>\n",
       "    </tr>\n",
       "    <tr>\n",
       "      <th>38</th>\n",
       "      <td>Reza Aslan</td>\n",
       "      <td>184.193151</td>\n",
       "    </tr>\n",
       "    <tr>\n",
       "      <th>41</th>\n",
       "      <td>Scott Adams</td>\n",
       "      <td>176.166898</td>\n",
       "    </tr>\n",
       "    <tr>\n",
       "      <th>44</th>\n",
       "      <td>Thomas Sowell</td>\n",
       "      <td>165.666847</td>\n",
       "    </tr>\n",
       "    <tr>\n",
       "      <th>12</th>\n",
       "      <td>Chris Hedges</td>\n",
       "      <td>148.853604</td>\n",
       "    </tr>\n",
       "  </tbody>\n",
       "</table>\n",
       "</div>"
      ],
      "text/plain": [
       "                handle  retweet_ratio\n",
       "35  Munroe Bergdorf 🌹🌹     375.915310\n",
       "38          Reza Aslan     184.193151\n",
       "41         Scott Adams     176.166898\n",
       "44       Thomas Sowell     165.666847\n",
       "12        Chris Hedges     148.853604"
      ]
     },
     "execution_count": 38,
     "metadata": {},
     "output_type": "execute_result"
    }
   ],
   "source": [
    "result = df.sort_values(['retweet_ratio'], ascending = [False]).head(300).groupby(['handle'])['retweet_ratio'].aggregate(np.mean).reset_index().sort_values('retweet_ratio',ascending=[False])\n",
    "result.head()"
   ]
  },
  {
   "cell_type": "code",
   "execution_count": 43,
   "metadata": {},
   "outputs": [
    {
     "data": {
      "image/png": "[encoded data removed]",
      "text/plain": [
       "<matplotlib.figure.Figure at 0x2651a6529b0>"
      ]
     },
     "metadata": {},
     "output_type": "display_data"
    }
   ],
   "source": [
    "plt.figure(figsize=(16, 12))\n",
    "sns.barplot(x='retweet_ratio', y='handle', data=df.sort_values(['retweet_ratio'], ascending = [False]).head(300), order=result['handle'])\n",
    "plt.title('Top handles by retweet_ratio (retweets:followers) for 6/21 - 8/4')\n",
    "sns.set(style=\"darkgrid\")\n",
    "plt.show()"
   ]
  },
  {
   "cell_type": "code",
   "execution_count": 48,
   "metadata": {},
   "outputs": [
    {
     "name": "stdout",
     "output_type": "stream",
     "text": [
      "Well... This is the real tea... https://t.co/VbKXgCejQf\n"
     ]
    }
   ],
   "source": [
    "print(df['text'][4328])\n",
    "#tea"
   ]
  },
  {
   "cell_type": "code",
   "execution_count": 50,
   "metadata": {},
   "outputs": [
    {
     "data": {
      "text/html": [
       "<div>\n",
       "<style scoped>\n",
       "    .dataframe tbody tr th:only-of-type {\n",
       "        vertical-align: middle;\n",
       "    }\n",
       "\n",
       "    .dataframe tbody tr th {\n",
       "        vertical-align: top;\n",
       "    }\n",
       "\n",
       "    .dataframe thead th {\n",
       "        text-align: right;\n",
       "    }\n",
       "</style>\n",
       "<table border=\"1\" class=\"dataframe\">\n",
       "  <thead>\n",
       "    <tr style=\"text-align: right;\">\n",
       "      <th></th>\n",
       "      <th>handle</th>\n",
       "      <th>retweet_ratio</th>\n",
       "    </tr>\n",
       "  </thead>\n",
       "  <tbody>\n",
       "    <tr>\n",
       "      <th>35</th>\n",
       "      <td>Munroe Bergdorf 🌹🌹</td>\n",
       "      <td>375.915310</td>\n",
       "    </tr>\n",
       "    <tr>\n",
       "      <th>38</th>\n",
       "      <td>Reza Aslan</td>\n",
       "      <td>184.193151</td>\n",
       "    </tr>\n",
       "    <tr>\n",
       "      <th>41</th>\n",
       "      <td>Scott Adams</td>\n",
       "      <td>176.166898</td>\n",
       "    </tr>\n",
       "    <tr>\n",
       "      <th>44</th>\n",
       "      <td>Thomas Sowell</td>\n",
       "      <td>165.666847</td>\n",
       "    </tr>\n",
       "    <tr>\n",
       "      <th>12</th>\n",
       "      <td>Chris Hedges</td>\n",
       "      <td>148.853604</td>\n",
       "    </tr>\n",
       "    <tr>\n",
       "      <th>43</th>\n",
       "      <td>Steve Saperstein</td>\n",
       "      <td>141.313784</td>\n",
       "    </tr>\n",
       "    <tr>\n",
       "      <th>0</th>\n",
       "      <td>Alexandria Ocasio-Cortez</td>\n",
       "      <td>138.946038</td>\n",
       "    </tr>\n",
       "    <tr>\n",
       "      <th>11</th>\n",
       "      <td>Candace Owens</td>\n",
       "      <td>136.603265</td>\n",
       "    </tr>\n",
       "    <tr>\n",
       "      <th>2</th>\n",
       "      <td>Allie Beth Stuckey</td>\n",
       "      <td>134.870607</td>\n",
       "    </tr>\n",
       "    <tr>\n",
       "      <th>29</th>\n",
       "      <td>Jordan Cook 🇺🇸</td>\n",
       "      <td>130.520293</td>\n",
       "    </tr>\n",
       "  </tbody>\n",
       "</table>\n",
       "</div>"
      ],
      "text/plain": [
       "                      handle  retweet_ratio\n",
       "35        Munroe Bergdorf 🌹🌹     375.915310\n",
       "38                Reza Aslan     184.193151\n",
       "41               Scott Adams     176.166898\n",
       "44             Thomas Sowell     165.666847\n",
       "12              Chris Hedges     148.853604\n",
       "43          Steve Saperstein     141.313784\n",
       "0   Alexandria Ocasio-Cortez     138.946038\n",
       "11             Candace Owens     136.603265\n",
       "2         Allie Beth Stuckey     134.870607\n",
       "29            Jordan Cook 🇺🇸     130.520293"
      ]
     },
     "execution_count": 50,
     "metadata": {},
     "output_type": "execute_result"
    }
   ],
   "source": [
    "result.head(10)"
   ]
  },
  {
   "cell_type": "code",
   "execution_count": 40,
   "metadata": {},
   "outputs": [],
   "source": [
    "statuses = api.GetUserTimeline(screen_name='SteveSaperstein', count=100, include_rts=False)"
   ]
  },
  {
   "cell_type": "code",
   "execution_count": 41,
   "metadata": {},
   "outputs": [
    {
     "name": "stdout",
     "output_type": "stream",
     "text": [
      "[[], [], [Hashtag(Text='coneyisland')], [Hashtag(Text='BayRidge')], [Hashtag(Text='believeinsteve')], [], [], [], [], [], [], [], [], [], [], [], [], [], [], [], [], [], [], [Hashtag(Text='retweet'), Hashtag(Text='Republican')], [], [], [], [], [], [], [], [], [], [Hashtag(Text='LGBT')], [], [], [], [], [], [], [], [], [], [], [Hashtag(Text='Socialism')], [], [Hashtag(Text='RedWave2018')], [], [], [], [], [], [], [], [], [], [], []]\n",
      "[0, 1, 1, 1, 1, 0, 15, 0, 6, 2, 0, 0, 1, 0, 1, 7, 12, 5, 4, 1, 1, 8, 0, 23, 5, 128, 1, 1, 0, 13, 6, 0, 5, 7, 2, 3, 0, 1, 1, 0, 1, 7, 6, 0, 20, 1, 4, 5, 35, 3, 3, 5, 0, 0, 8, 11, 6, 3]\n",
      "['Babushka Ida’s training and orientation for the new election cycle is complete. Many thanks and love you!… https://t.co/mZseKcXJAm', \"“Venezuela is doubling down on the poison that's killing it.” https://t.co/nIkQdPcKI0 via @nypost I guess New York’… https://t.co/QDWy1LoKOf\", 'https://t.co/RC7gOxC7hK. These are serious and damaging allegations that must be investigated thoroughly! #coneyisland', 'Enjoyed walking the #BayRidge summer stroll! Family and fun times for the community. Please come say 👋 next time. https://t.co/YoGQZMY6dA', '#believeinsteve https://t.co/xR9MqzChM0', 'State sponsored propaganda. https://t.co/tCIE2AVOSd', 'Happy to announce that I will be on four ballot lines this November: Republican, Conservative, Independence and Ref… https://t.co/2RP3RBq9aQ', '@ThomasBrice2017 @KingJames Want to see a video of me shooting around with MJ?', 'I am a self admitted @KingJames hater but actions speak louder than words! Awesome stuff from the 🐐 (After MJ, of c… https://t.co/YvUOigdrfb', 'Great speaking about the issues and moving forward at a BYRC round table. Getting the community fired up, educated,… https://t.co/m6EMsCukUM', '@FrontusforNY @kadiagoba @Julcuba @KingsCountyPols @bkreporter @PaulaKatinas @bklyner I hope that’s the case. If so, I wish you luck.', '@FrontusforNY @kadiagoba @Julcuba @KingsCountyPols @bkreporter @PaulaKatinas @bklyner Yes it is odd. To many, you w… https://t.co/RTXfFRe16s', 'Is there still a primary for the democrats in September? Is Missing @FrontusforNY running with or against Useless E… https://t.co/YBjtZgMopt', '@JoshMehlman @TweetBenMax @CoreyinNYC @NYCSpeakerCoJo 💰💰💰💰💰', '“Trinitarios gang members go ballistic in city jail.” https://t.co/QLsWOJmW4D via @nypmetro The jails are dangerous… https://t.co/WW7P8HAnyJ', 'GDP announced within the next few weeks is rumored to be somewhere between 4-5%! Wow!', 'At the annual American Heritage Dinner with Kings and Queens County conservatives! https://t.co/QW8SMAOWBY', 'Here’s a photo of yours truly already sharing his concerns and ideas for improving our illustrious BOARDWALK nearly… https://t.co/lrZgIc3RB9', 'Steve CAN’T STOP THE FEELING! Another great evening 🚪 to 🚪... A huge thank you to all of our summer Interns who are… https://t.co/NjnyIcZQh7', '🚨🚨Attention frontrunner in donations and support from the very same people that gave you Pam Harris, we know you ar… https://t.co/5kKnSCha2V', 'I’ve always loved this community and my passion for it, especially our iconic and much-beloved boardwalk, is unwave… https://t.co/fdbOEHP5wE', 'I recently found a project friends and I completed back in 2001 about the deplorable condition of the boardwalk—hol… https://t.co/YPKTBCKhK9', 'Way to go @Starbucks! @KenGlassNYC https://t.co/lUM7pRfTeY', 'Please like and #retweet. Help elect a Common Sense #Republican to the New York State Assembly this November!… https://t.co/XCs501MVKA', 'If @andrewcuomo was really interested in giving tax relief to New Yorkers, he wouldn’t have tried to raise taxes by… https://t.co/6VvtlrxDcl', 'Ben Shapiro: 10 Lessons in 10 Years—What Marriage Has Taught Me | Opinion https://t.co/iZfkxMU0o6 Another great read from @benshapiro', 'Thank you. Let’s get to work!!! https://t.co/Kg0yJHQNxB', '@RadioFreeBR There’s 800+ kids living in public housing that were exposed to lead paint and then covered up by our… https://t.co/8xtrVQw36E', '@WillBredderman @CoreyinNYC @repjoecrowley Help me, help you. https://t.co/zaF6nOSGIk', 'Many thanks to Councilman @eric_ulrich and friends for a great evening. I really appreciate all the support as we c… https://t.co/OQe4UJEU4t', 'The candidate put up by the Democratic machine against me is sponsored by weak and do nothing leaders. Instead of t… https://t.co/JKdfHl7NpY', 'Thanks for the invite. https://t.co/2qHfaKeqvp', 'Israeli technology providing vital communications link to cave-trapped Thai boys | The Times of Israel https://t.co/nrhhbLHTn6', 'https://t.co/0lqMfi7d2u. Hi @ChaimDeutsch Does your immense concern for diversity extend to the #LGBT 🏳️\\u200d🌈 communit… https://t.co/wwHmm2fiTu', 'Yes, we do have a problem. The problem is morons weaponize statistics to draw false conclusions. If we added simple… https://t.co/vW7y7ZsVaN', 'Happy 4th of July! https://t.co/lOlrzlUCCr', 'https://t.co/VF3N4PsSiW', 'M.T.A delays job posting/ skills required: must type 1,000+ words per minute. https://t.co/owehQ5ywvg', 'NYCHA nightmare: More than 800 kids tainted by lead, de Blasio administration finally concedes - NY Daily News https://t.co/rBKs9pbjX8', 'Children’s puppetry show today on the boardwalk. https://t.co/TV1kMCvMgX https://t.co/Smjr07PY4M', 'Have a great weekend @D_Weiss_NY  ! 😎👍https://t.co/GJYEsbas2W', 'Fantastic turnout to support @NMalliotakis last night. Nicole will continue to fight and deliver for her constituen… https://t.co/qqEbVoScq9', '“The problem with socialism is you eventually run out of other people’s money.” - Margaret Thatcher', '@D_Weiss_NY @Ocasio2018 Love you too.', \"With yesterday's results in Queens, Congresswoman-elect @Ocasio2018 victory proves that #Socialism is not only aliv… https://t.co/OGnx9B24b1\", '.@JoeCrowleyNY owned nearly all of the Democrats on the city council. What’s hilarious is that all of the “progress… https://t.co/qJmJFMvvSp', 'Congratulations to @dandonovan_ny whom the entire GOP needs to rally behind to get us a victory in November! #RedWave2018', 'Asian-Americans are challenging the Democratic Party’s orthodoxy on race-based admissions, writes @wjmcgurn… https://t.co/2pANcCcRwl', '86th street in Bay Ridge yesterday:  mental health issues + government failure to properly allocate billions. Now,… https://t.co/rPmYXo9E6m', 'The Krainert-Saperstein machine. https://t.co/0s5cfjXA6R', \"Mom of slain teen says she hasn't heard a peep from de Blasio https://t.co/LsGfRK2dYB via @nypost\", 'Exhibit A as to why we need common sense voices in Albany to prevent California style liberalism from dominating ou… https://t.co/wFicd6RBX0', 'May the best of your todays be the worst of your tomorrows.', '@Smiller1981 Thank you!', 'Winter is coming. (After this heat wave.) https://t.co/dYKo9156y9', 'Vote Saperstein for Assembly. https://t.co/v9FTq8i7sO', 'Another successful evening going door to door directly meeting my future constituents. Thank you @ThomasBrice2017 f… https://t.co/hZDCsZ3C4k', 'Former Brooklyn assemblywoman expected to plead guilty in fraud case - NY Daily News https://t.co/7MebrU6acD']\n"
     ]
    },
    {
     "data": {
      "text/plain": [
       "Status(ID=1020013225956532224, ScreenName=SteveSaperstein, Created=Thu Jul 19 18:31:18 +0000 2018, Text='Way to go @Starbucks! @KenGlassNYC https://t.co/lUM7pRfTeY')"
      ]
     },
     "execution_count": 41,
     "metadata": {},
     "output_type": "execute_result"
    }
   ],
   "source": [
    "print([s.hashtags for s in statuses])\n",
    "print([s.retweet_count for s in statuses])\n",
    "print([s.text for s in statuses])\n",
    "\n",
    "\n",
    "statuses[22]"
   ]
  },
  {
   "cell_type": "code",
   "execution_count": 42,
   "metadata": {},
   "outputs": [
    {
     "name": "stdout",
     "output_type": "stream",
     "text": [
      "['AsDict', 'AsJsonString', 'NewFromJsonDict', '__class__', '__delattr__', '__dict__', '__dir__', '__doc__', '__eq__', '__format__', '__ge__', '__getattribute__', '__gt__', '__hash__', '__init__', '__init_subclass__', '__le__', '__lt__', '__module__', '__ne__', '__new__', '__reduce__', '__reduce_ex__', '__repr__', '__setattr__', '__sizeof__', '__str__', '__subclasshook__', '__weakref__', '_json', 'contributors', 'coordinates', 'created_at', 'created_at_in_seconds', 'current_user_retweet', 'favorite_count', 'favorited', 'full_text', 'geo', 'hashtags', 'id', 'id_str', 'in_reply_to_screen_name', 'in_reply_to_status_id', 'in_reply_to_user_id', 'lang', 'location', 'media', 'param_defaults', 'place', 'possibly_sensitive', 'quoted_status', 'quoted_status_id', 'quoted_status_id_str', 'retweet_count', 'retweeted', 'retweeted_status', 'scopes', 'source', 'text', 'truncated', 'tweet_mode', 'urls', 'user', 'user_mentions', 'withheld_copyright', 'withheld_in_countries', 'withheld_scope']\n"
     ]
    }
   ],
   "source": [
    "print(dir(statuses[0]))"
   ]
  },
  {
   "cell_type": "code",
   "execution_count": null,
   "metadata": {},
   "outputs": [],
   "source": []
  }
 ],
 "metadata": {
  "kernelspec": {
   "display_name": "Python 3",
   "language": "python",
   "name": "python3"
  },
  "language_info": {
   "codemirror_mode": {
    "name": "ipython",
    "version": 3
   },
   "file_extension": ".py",
   "mimetype": "text/x-python",
   "name": "python",
   "nbconvert_exporter": "python",
   "pygments_lexer": "ipython3",
   "version": "3.6.4"
  }
 },
 "nbformat": 4,
 "nbformat_minor": 2
}
